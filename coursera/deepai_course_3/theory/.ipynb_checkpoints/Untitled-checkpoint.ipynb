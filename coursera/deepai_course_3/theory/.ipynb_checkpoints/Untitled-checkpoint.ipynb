{
 "cells": [
  {
   "cell_type": "markdown",
   "metadata": {},
   "source": [
    "# week 1: ML Strategy (1)\n",
    "**Learning Objectives:**  \n",
    "Understand why Machine Learning strategy is important  \n",
    "Apply satisficing and optimizing metrics to set up your goal for ML projects  \n",
    "Choose a correct train/dev/test split of your dataset  \n",
    "Understand how to define human-level performance  \n",
    "Use human-level perform to define your key priorities in ML projects  \n",
    "Take the correct ML Strategic decision based on observations of performances and dataset  \n"
   ]
  },
  {
   "cell_type": "markdown",
   "metadata": {},
   "source": [
    "# 1. Giới thiệu về ML Strategy:\n",
    "## 1.1 Tại sao lại cần ML Strategy:\n",
    "Khi huấn luyện một model, bạn sẽ sẽ có rất nhiều ý tưởng nhằm nâng cao hiệu năng của model đó. \n",
    "Chẳng hạn như: \n",
    "* lấy thêm data \n",
    "* tăng thêm sự đa dạng của training set \n",
    "* huấn luyện dài hơn với gradient descent \n",
    "* thay đổi thuật toán optimize \n",
    "* thay đổi loss function \n",
    "* huấn luyện với model phức tạp hơn (nhiều hidden units, hidden layer) \n",
    "* thử nghiệm với drop out và batch norm \n",
    "* ...\n"
   ]
  },
  {
   "cell_type": "markdown",
   "metadata": {},
   "source": [
    "Chính vì có quá nhiều ý tưởng nên sẽ có một vấn đề xảy ra. Chúng ta sẽ phải thử rất nhiều ý tưởng này cho đến khi có được một kết quả tốt nhất.    \n",
    "\n",
    "Tuy nhiên, thời gian một đi không trở lại nên khi model của bạn hoàn thiện thì data phát triển theo một hướng khác, không khéo nó bị biến chất luân. Nghĩ thế này cho đơn giản nè, bạn đi làm, đi du học ở một nơi xa xôi, bao quanh là núi đồi ấy. Gấu bạn ở nhà thì vì đợi mãi không được nên lấy ck cmnl. Lúc bạn đi về (hoàn thiện model) thì cô ấy hai tay hai nhóc ruồi.   \n",
    "\n",
    "Chính vì vậy, chúng ta cần có một chiến lược tốt để thực hiện các ý tưởng lúc huấn luyện model. "
   ]
  },
  {
   "cell_type": "markdown",
   "metadata": {},
   "source": [
    "## 1.2 Orthogonalization"
   ]
  },
  {
   "cell_type": "markdown",
   "metadata": {},
   "source": [
    "Ngày xửa ngày xưa, cái ngày mà người ta còn đun bếp bằng rơm rạ ấy. Người người nhà nhà sáng luyện võ công, tối chăng đèn đọc sách, sao cho văn võ song toàn. Nhưng khổ nỗi có quá nhiều thứ cần học. Lã Bố giỏi võ nhưng hữu dũng vô mưu, Quách Gia thông minh nhưng lại ngỏm vì quá yếu. Vì vậy chúng ta cần hài hoà mọi thứ, văn võ tinh thông, model cũng zậy, chúng ta cần tuning sao cho nó có thể đạt được kết quả tốt nhất, trên cả mọi tập dữ liệu, việc tuning như thế nào, ra làm sao chính là orthogonalization.\n",
    "\n",
    ">B1: Tuning sao cho fit với training set   \n",
    "Trong bước này chúng ta có thể tăng kích thước hidden units, tăng layers, thử nghiệm thuật toán khác, vân vân và mây mây...  \n",
    "\n",
    ">B2: Tuning sao cho fit với dev set (validation set)  \n",
    "Thêm regularization để hạn chế overfitting, tăng thêm dữ liệu vì có thể mẫu lấy được chỉ thể hiện được một phần nhỏ phân bố. \n",
    "\n",
    ">B3: Tuning sao cho fit với test set:   \n",
    "Tăng kích thước của dev set để có được một số lượng mẫu đủ tin tưởng có thể mô tả được phân bố thực tế. \n",
    "\n",
    ">B4: Làm sao cho model có thể có kết quả tốt với dữ liệu thực tế \n",
    "Model của bạn không hoạt động tốt với thực tế, dù cho kết quả test khá tốt.  \n",
    "Nguyên nhân ở đây là do các tập dev set và test set của bạn quá bé, bé tí tẹo tèo teo luôn ấy. Vậy nên cần phải mở rộng hai tập này ra để đánh giá hết các trường hợp, đừng 'độn' từ trên xuống dưới như các em gái nhé. \n",
    "Một nguyên nhân khác đó là do loss function, loss function các bạn đặt ra có phù hợp với cái business mà model cần giải quyết không nhỉ, nếu không thì gay đó. Các bạn nghĩ thử xem, crush bạn thích nghe nhạc BTS mà bạn cứ rủ cô ý đi nghe cải lương thì có hạp lí ko zậy -_- "
   ]
  },
  {
   "cell_type": "code",
   "execution_count": null,
   "metadata": {},
   "outputs": [],
   "source": []
  }
 ],
 "metadata": {
  "kernelspec": {
   "display_name": "Python 3",
   "language": "python",
   "name": "python3"
  },
  "language_info": {
   "codemirror_mode": {
    "name": "ipython",
    "version": 3
   },
   "file_extension": ".py",
   "mimetype": "text/x-python",
   "name": "python",
   "nbconvert_exporter": "python",
   "pygments_lexer": "ipython3",
   "version": "3.7.3"
  }
 },
 "nbformat": 4,
 "nbformat_minor": 2
}
