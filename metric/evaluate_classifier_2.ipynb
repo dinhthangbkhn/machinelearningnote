{
 "cells": [
  {
   "cell_type": "markdown",
   "metadata": {},
   "source": [
    "# ROC và AUC "
   ]
  },
  {
   "cell_type": "markdown",
   "metadata": {},
   "source": [
    "## 1. Receiver Operating Characteristic (ROC) Curve:\n",
    "Trong notebook trước, chúng ta đã tìm hiểu precision, recall, F1 score. Đặc biệt trong phần bài tập cũng đã đề cập đến sự thay đổi của các đại lượng trên khi thay đổi ngưỡng threshold trong khi phân lớp. Trong phần này chúng ta sẽ nghiên cứu kĩ hơn sự ảnh hưởng của threshold lên hiệu năng của model.\n",
    "\n",
    "Đầu tiên chúng ta sẽ bắt đầu với khái niệm ROC curve.   \n",
    ">Đường cong ROC:\n",
    "là một đồ thị chỉ ra hiệu năng của hệ thống phân lớp (classifier, classification model) ở các mức threshold khác nhau. (Threshold được mô tả trong bài tập của notebook 1). \n",
    "Đồ thị ROC được vẽ trong một hệ toạ độ hai chiều, trong đó:\n",
    "* trục hoành là **True Positive Rate (TPR)**:  \n",
    "$$\n",
    "\\begin{align}\n",
    "TPR = \\frac{TP}{TP + FN}\n",
    "\\end{align}\n",
    "$$                                    \n",
    "* trục tung là **False Positive Rate (FPR)**:  \n",
    "$$\n",
    "\\begin{align}\n",
    "FPR = \\frac{FP}{FP + TN}\n",
    "\\end{align}\n",
    "$$ "
   ]
  },
  {
   "cell_type": "markdown",
   "metadata": {},
   "source": [
    "Để ý rằng chúng ta luôn muốn TPR cao và FPR thấp. \n",
    "Hình sau minh hoạ một đồ thị ROC:\n"
   ]
  },
  {
   "cell_type": "markdown",
   "metadata": {},
   "source": [
    "<img style=\"width:auto; margin-left:200px;\" src=\"ROC.jpg\"/>"
   ]
  },
  {
   "cell_type": "markdown",
   "metadata": {},
   "source": [
    "## 2. AUC:\n",
    "Dựa trên ROC curve, ta có thể chỉ ra rằng một mô hình có hiệu quả hay không. \n",
    "Một mô hình hiệu quả khi có FPR thấp và TPR cao, \n",
    "tức tồn tại một điểm trên ROC curve gần với điểm có toạ độ (0, 1) trên đồ thị (góc trên bên trái). \n",
    "Curve càng gần thì mô hình càng hiệu quả.\n",
    "\n",
    "Có một thông số nữa dùng để đánh giá được gọi là **Area Under the Curve** hay AUC. \n",
    "Đại lượng này chính là diện tích nằm dưới ROC curve màu cam.\n",
    "Giá trị này là một số dương nhỏ hơn hoặc bằng 1. \n",
    "Giá trị này càng lớn thì mô hình càng tốt.\n",
    "\n",
    "Phần được tô đậm ở hình vẽ sau mô tả AUC của một hệ thống phân lớp \n",
    "<img src=\"AUC.png\" style=\"left:200px;\"/>"
   ]
  },
  {
   "cell_type": "markdown",
   "metadata": {},
   "source": [
    "## Bài tập:\n",
    "1. Tìm hiểu cách vẽ ROC trong scikit learn. Cho ví dụ cụ thể (Ý là code ấy =)) ).   \n",
    "2. Tìm hiểu kĩ hơn khái niệm AUC (Phần trên anh chỉ giới thiệu qua, kĩ hơn thì mấy đứa tìm hiểu thêm coi như bài tập).  \n",
    "3. Nhìn vào hình vẽ ở phần ROC, giải thích model nào cho kết quả tốt hơn, tại sao? \n",
    "4. Hoàn thiện nốt phần visualization và pandas ngày hôm qua. \n",
    "**Lưu ý:** làm slide báo cáo template của IREP, upload lên back log."
   ]
  },
  {
   "cell_type": "markdown",
   "metadata": {},
   "source": []
  },
  {
   "cell_type": "markdown",
   "metadata": {},
   "source": []
  },
  {
   "cell_type": "markdown",
   "metadata": {},
   "source": []
  },
  {
   "cell_type": "markdown",
   "metadata": {},
   "source": []
  },
  {
   "cell_type": "markdown",
   "metadata": {},
   "source": []
  },
  {
   "cell_type": "markdown",
   "metadata": {},
   "source": []
  }
 ],
 "metadata": {
  "kernelspec": {
   "display_name": "Python 3",
   "language": "python",
   "name": "python3"
  },
  "language_info": {
   "codemirror_mode": {
    "name": "ipython",
    "version": 3
   },
   "file_extension": ".py",
   "mimetype": "text/x-python",
   "name": "python",
   "nbconvert_exporter": "python",
   "pygments_lexer": "ipython3",
   "version": "3.7.3"
  }
 },
 "nbformat": 4,
 "nbformat_minor": 2
}
