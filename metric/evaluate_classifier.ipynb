{
 "cells": [
  {
   "cell_type": "markdown",
   "metadata": {},
   "source": [
    "# Đánh giá hệ thống phân lớp "
   ]
  },
  {
   "cell_type": "markdown",
   "metadata": {},
   "source": [
    "## 1. Accuracy\n",
    "> Accuracy được tính bằng **tỉ lệ giữa số điểm được dự đoán đúng trên tổng số điểm** trong tập dữ liệu kiểm thử.  \n",
    "\n",
    "Ví dụ dưới đây ta thấy độ chính xác sẽ vào khoảng 50% "
   ]
  },
  {
   "cell_type": "code",
   "execution_count": 2,
   "metadata": {},
   "outputs": [
    {
     "name": "stdout",
     "output_type": "stream",
     "text": [
      "Accuracy:  0.5\n"
     ]
    }
   ],
   "source": [
    "import numpy as np \n",
    "ground_truth = np.array([0,1,1,1])\n",
    "predict = np.array([0,0,1,0])\n",
    "def acc(ground_truth, predict):\n",
    "    return sum(ground_truth==predict)/ground_truth.shape[0]\n",
    "print('Accuracy: ', acc(ground_truth, predict))"
   ]
  },
  {
   "cell_type": "markdown",
   "metadata": {},
   "source": [
    "**Vậy liệu chúng ta có thể chỉ cần dùng mỗi accuracy để đánh giá hệ thống phân lớp hay không?**  \n",
    "Câu trả lời là nếu sử dụng mỗi accuracy để đánh giá hệ thống phân lớp không thôi là chưa đủ.  \n",
    "Chúng ta xét ví dụ dưới đây, để ý rằng trong trường hợp này, dù predict có accuracy cao nhưng luôn luôn dự cho ra kết quả dự đoán là một class duy nhất.  \n",
    "Điều này dễ xảy ra trong trường hợp số lượng record giữa các lớp unbalance (chẳng hạn có hai lớp, thì một lớp chiếm 90%, trong khi lớp còn lại chỉ chiếm 10%). "
   ]
  },
  {
   "cell_type": "code",
   "execution_count": 3,
   "metadata": {},
   "outputs": [
    {
     "name": "stdout",
     "output_type": "stream",
     "text": [
      "Accuracy:  0.75\n"
     ]
    }
   ],
   "source": [
    "ground_truth = np.array([0,1,1,1])\n",
    "predict = np.array([1,1,1,1])\n",
    "print('Accuracy: ', acc(ground_truth, predict))"
   ]
  },
  {
   "cell_type": "markdown",
   "metadata": {},
   "source": [
    "## 2. Confusion matrix\n",
    "Như trong vấn đề đã trình bày ở trên, ta cần có một cách đánh giá thể hiện được việc **tỉ lệ phân lớp chính xác đối với mỗi class**.  \n",
    "Một metric hay được sử dụng đó là confusion matrix. \n",
    ">Confusion matrix là một ma trận vuông có kích thước bằng với số lượng các class trong dataset. \n",
    ">Giá trị tại hàng thứ i, cột thứ j là số lượng điểm lẽ ra thuộc vào class i nhưng lại được dự đoán là thuộc vào class j.\n"
   ]
  },
  {
   "cell_type": "markdown",
   "metadata": {},
   "source": [
    "Xét ví dụ dưới đây, ta thấy: \n",
    "* 75 điểm dữ liệu của lớp 0 được phân lớp đúng vào lớp 0. \n",
    "* 25 điểm dữ liệu của lớp 0 bị phân nhầm vào lớp 1. \n",
    "* 30 điểm dữ liệu của lớp 1 bị phân nhầm vào lớp 0 \n",
    "* 50 điểm dữ liệu của lớp 1 được phân đúng vào lớp 1 "
   ]
  },
  {
   "cell_type": "raw",
   "metadata": {},
   "source": [
    "|                         | dự đoán (predict): class 0 | dự đoán(predict) class 1 |\n",
    "|-------------------------|----------------------------|--------------------------|\n",
    "| thực tế (true): class 0 |             75             |            25            |\n",
    "| thực tế (true): class 1 |             30             |            50            |"
   ]
  },
  {
   "cell_type": "markdown",
   "metadata": {},
   "source": [
    "Thư viện sklearn có hỗ trợ hàm *confusion_matrix* để tính toán nhanh hơn. "
   ]
  },
  {
   "cell_type": "code",
   "execution_count": 12,
   "metadata": {},
   "outputs": [
    {
     "name": "stdout",
     "output_type": "stream",
     "text": [
      "Confusion matrix:\n",
      "[[2 2]\n",
      " [4 3]]\n"
     ]
    }
   ],
   "source": [
    "from sklearn.metrics import confusion_matrix\n",
    "ground_truth = np.array([0,1,1,1,0,1,0,1,1,1,0])\n",
    "predict = np.array([1,1,1,1,0,0,0,0,0,0,1])\n",
    "cnf_matrix = confusion_matrix(ground_truth, predict)\n",
    "print('Confusion matrix:')\n",
    "print(cnf_matrix)"
   ]
  },
  {
   "cell_type": "markdown",
   "metadata": {},
   "source": [
    "## 3. True Positive, True Negative, False Positive, False Negative là gì? \n",
    "Chắc hẳn mọi người đã nghe đến 4 khái niệm này đâu đó trong bộ môn xác suất thống kê, tuy nhiên thi thoảng nếu có ai đó đột nhiên hỏi thì không hẳn là ai cũng nhớ. Bản thân mình cũng nằm trong số đó, trong phần này, mình sẽ trình bày lại 4 khái niệm quan trọng này. Một trong những metric quan trọng dùng để đánh giá hệ thống phân lớp. Ngoài ra còn được sử dụng đế tính các metric khác sau này như *precision* và *recall*.  \n",
    "\n",
    "Lưu ý nho nhỏ, các khái niệm True Positive (TP), True Negative (TN), False Positive (FP), False Negative (FN) được sử dụng trong hệ thống phân lớp có hai lớp là lớp positive và lớp negative. Trong các bài toán phân loại nhiều hơn hai lớp ( multiple classification) thì chúng ta thường đánh giá TP, TN, FP, FN cho mỗi lớp (Ví dụ như: lớp A và không phải lớp A). \n",
    "\n",
    "\n",
    "Trong khoá ML Crash Course của google, ta có định nghĩa như sau:"
   ]
  },
  {
   "cell_type": "markdown",
   "metadata": {},
   "source": [
    "* A **true positive** is an outcome where the model correctly predicts the positive class. \n",
    "* A **true negative** is an outcome where the model correctly predicts the negative class.\n",
    "* A **false positive** is an outcome where the model incorrectly predicts the positive class. And a \n",
    "* A **false negative** is an outcome where the model incorrectly predicts the negative class."
   ]
  },
  {
   "cell_type": "markdown",
   "metadata": {},
   "source": [
    "Vậy để dễ nhớ, ta có:  \n",
    "* **True** có nghĩa là hệ thống phân lớp đã xác định đúng lớp\n",
    "* **False** nghĩa là hệ thống phân lớp đã xác định nhầm lớp.  \n",
    "* **Positive** là lớp positive  \n",
    "* **Negative** là lớp negative   \n",
    "\n",
    "Từ đó dễ dàng suy ra True Positive là phân lớp đúng vào lớp positive, True Negative là phân lớp đúng vào lớp negative, False Positive là phân lớp vào lớp Positive, False Negative là phân lớp nhầm vào lớp Negative "
   ]
  },
  {
   "cell_type": "markdown",
   "metadata": {},
   "source": [
    "<img src=\"TPTNFPFN.png\">"
   ]
  },
  {
   "cell_type": "markdown",
   "metadata": {},
   "source": [
    "## 4. Precision và Recall"
   ]
  },
  {
   "cell_type": "markdown",
   "metadata": {},
   "source": [
    "Với bài toán phân loại mà tập dữ liệu của các lớp là chênh lệch nhau rất nhiều, có một phép đó hiệu quả thường được sử dụng là Precision-Recall.\n",
    "\n",
    "Trước hết xét bài toán phân loại nhị phân. Ta cũng coi một trong hai lớp là positive, lớp còn lại là negative."
   ]
  },
  {
   "cell_type": "markdown",
   "metadata": {},
   "source": [
    "<img src=\"Precision and Recall.png\">"
   ]
  },
  {
   "cell_type": "markdown",
   "metadata": {},
   "source": [
    "Với một cách xác định một lớp là positive, \n",
    "* **Precision** được định nghĩa là tỉ lệ số điểm true positive trong số những điểm được phân loại là positive (TP + FP).\n",
    "* **Recall** được định nghĩa là tỉ lệ số điểm true positive trong số những điểm thực sự là positive (TP + FN).\n",
    "Precision cao đồng nghĩa với việc độ chính xác của các điểm tìm được là cao. Recall cao đồng nghĩa với việc True Positive Rate cao, tức tỉ lệ bỏ sót các điểm thực sự positive là thấp.  \n",
    "Một cách toán học, Precison và Recall là hai phân số có tử số bằng nhau nhưng mẫu số khác nhau:\n",
    "> $Precision = TP/(TP + FP)$  \n",
    "> $Recall = TP/(TP + FP)$\n",
    "\n",
    "Thư viện scikit learn có hỗ trợ sẵn hai hàm *precision_score* và *recall_score* để tính toán precision và recall"
   ]
  },
  {
   "cell_type": "code",
   "execution_count": 14,
   "metadata": {},
   "outputs": [
    {
     "name": "stdout",
     "output_type": "stream",
     "text": [
      "Precision:  0.6\n",
      "Recall:  0.42857142857142855\n"
     ]
    }
   ],
   "source": [
    "from sklearn.metrics import precision_score, recall_score\n",
    "ground_truth = np.array([0,1,1,1,0,1,0,1,1,1,0])\n",
    "predict = np.array([1,1,1,1,0,0,0,0,0,0,1])\n",
    "print('Precision: ', precision_score(ground_truth, predict))\n",
    "print('Recall: ', recall_score(ground_truth, predict))"
   ]
  },
  {
   "cell_type": "markdown",
   "metadata": {},
   "source": [
    "## bài tập \n",
    "Câu hỏi: \n",
    "\n",
    "1. Giả sử một hệ thống phân loại thư rác. Đầu ra của model là một giá trị từ 0 đến 1. Ta đặt một ngưỡng gọi là threshold. Ví dụ nếu threshold bằng 0.5 thì với mỗi điểm dữ liệu, nếu model cho ra kết quả lơn hơn hoặc bằng 0.5 thì điểm đó sẽ được cho vào lớp 1. Ngược lại sẽ cho vào lớp 0. Điều gì sẽ xảy ra đối với precision và recall khi chúng ta thay đổi threshold (tăng, giảm)  \n",
    "2. Tìm hiểu và giải thích khái niệm F1 score. \n",
    "3. Tìm hiểu hai course https://www.kaggle.com/learn/data-visualization và https://www.kaggle.com/learn/pandas"
   ]
  },
  {
   "cell_type": "code",
   "execution_count": null,
   "metadata": {},
   "outputs": [],
   "source": []
  }
 ],
 "metadata": {
  "kernelspec": {
   "display_name": "Python 3",
   "language": "python",
   "name": "python3"
  },
  "language_info": {
   "codemirror_mode": {
    "name": "ipython",
    "version": 3
   },
   "file_extension": ".py",
   "mimetype": "text/x-python",
   "name": "python",
   "nbconvert_exporter": "python",
   "pygments_lexer": "ipython3",
   "version": "3.7.3"
  }
 },
 "nbformat": 4,
 "nbformat_minor": 2
}
