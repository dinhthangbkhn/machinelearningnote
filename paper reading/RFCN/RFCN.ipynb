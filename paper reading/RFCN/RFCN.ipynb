{
 "cells": [
  {
   "cell_type": "markdown",
   "metadata": {},
   "source": [
    "# RFCN "
   ]
  },
  {
   "cell_type": "markdown",
   "metadata": {},
   "source": [
    "## References:\n",
    "* https://towardsdatascience.com/review-r-fcn-positive-sensitive-score-maps-object-detection-91cd2389345c\n",
    "* https://medium.com/@jonathan_hui/understanding-region-based-fully-convolutional-networks-r-fcn-for-object-detection-828316f07c99"
   ]
  },
  {
   "cell_type": "markdown",
   "metadata": {},
   "source": [
    "Ý tưởng của RFCN, chia RoI thành kxk phần, chia RoI được đề xuất thành kxk phần. Tính sự liên quan, độ trùng lặp của từng phần của RoI đề xuất đối với từng phần của RoI ban đầu. "
   ]
  },
  {
   "cell_type": "markdown",
   "metadata": {},
   "source": [
    "Từ ảnh và RoI gốc, tính score map. \n",
    "Giả sử có C class, mỗi feature map có kích thước kxk. \n",
    "Số lượng score map sẽ là $(C+1)*k*k$. \n",
    "\n",
    "Với mỗi RoI được đề xuất, thực hiện RoI Pooling đối với toàn bộ score map, cho ra một feature map có kích thước kxk tương ứng với mỗi class. Do đó ta sẽ có (C+1) feature map như vậy, từ đó tính average, chuyển về thành 1 vector có shape (C+1,1). Sử dụng softmax để tính xác suất. "
   ]
  },
  {
   "cell_type": "markdown",
   "metadata": {},
   "source": []
  },
  {
   "cell_type": "markdown",
   "metadata": {},
   "source": []
  },
  {
   "cell_type": "markdown",
   "metadata": {},
   "source": []
  },
  {
   "cell_type": "markdown",
   "metadata": {},
   "source": []
  },
  {
   "cell_type": "markdown",
   "metadata": {},
   "source": []
  },
  {
   "cell_type": "markdown",
   "metadata": {},
   "source": []
  }
 ],
 "metadata": {
  "kernelspec": {
   "display_name": "Python 3",
   "language": "python",
   "name": "python3"
  },
  "language_info": {
   "codemirror_mode": {
    "name": "ipython",
    "version": 3
   },
   "file_extension": ".py",
   "mimetype": "text/x-python",
   "name": "python",
   "nbconvert_exporter": "python",
   "pygments_lexer": "ipython3",
   "version": "3.7.3"
  }
 },
 "nbformat": 4,
 "nbformat_minor": 2
}
